{
  "nbformat": 4,
  "nbformat_minor": 0,
  "metadata": {
    "colab": {
      "private_outputs": true,
      "provenance": [],
      "authorship_tag": "ABX9TyOpG2T5JyRGdWla6GjhGMT5",
      "include_colab_link": true
    },
    "kernelspec": {
      "name": "python3",
      "display_name": "Python 3"
    },
    "language_info": {
      "name": "python"
    }
  },
  "cells": [
    {
      "cell_type": "markdown",
      "metadata": {
        "id": "view-in-github",
        "colab_type": "text"
      },
      "source": [
        "<a href=\"https://colab.research.google.com/github/yassinehammoud/R-Bridge-Tutorial-Notebooks/blob/master/Maxar_download_data.ipynb\" target=\"_parent\"><img src=\"https://colab.research.google.com/assets/colab-badge.svg\" alt=\"Open In Colab\"/></a>"
      ]
    },
    {
      "cell_type": "code",
      "execution_count": null,
      "metadata": {
        "cellView": "form",
        "id": "Az3rvEelcJtE"
      },
      "outputs": [],
      "source": [
        "# @title Step 1: Set Up the Colab Environment\n",
        "\n",
        "# Install necessary packages\n",
        "!sudo apt-get update\n",
        "!sudo apt-get install -y gdal-bin jq libtiff-tools python3-virtualenv\n",
        "!pip install rich shapely typer duckdb\n",
        "\n",
        "# Download and configure DuckDB\n",
        "!wget -c https://github.com/duckdb/duckdb/releases/download/v0.9.1/duckdb_cli-linux-amd64.zip\n",
        "!unzip -j duckdb_cli-linux-amd64.zip\n",
        "!chmod +x duckdb\n",
        "!./duckdb -c \"INSTALL json; INSTALL spatial;\"\n",
        "\n",
        "# Create DuckDB config file\n",
        "!echo -e \".timer on\\n.width 180\\nLOAD json;\\nLOAD spatial;\" > ~/.duckdbrc\n",
        "\n",
        "# Clone the Maxar open data repository\n",
        "!git clone https://github.com/opengeos/maxar-open-data/\n",
        "!mkdir -p maxar-open-data/downloads"
      ]
    },
    {
      "cell_type": "code",
      "source": [
        "# @title Step 2: Download Script\n",
        "\n",
        "%%writefile download.py\n",
        "#!/usr/bin/env python3\n",
        "# -*- coding: utf-8 -*-\n",
        "from   glob     import glob\n",
        "import json\n",
        "from   os       import makedirs, path\n",
        "from   random   import shuffle\n",
        "import requests\n",
        "\n",
        "from   rich.progress import track\n",
        "import typer\n",
        "\n",
        "\n",
        "app = typer.Typer(rich_markup_mode='rich')\n",
        "\n",
        "\n",
        "@app.command()\n",
        "def download(timeout: int = 60):\n",
        "    geojsons = [x\n",
        "                for x in glob('maxar-open-data/datasets/*.geojson')\n",
        "                if 'union' not in x and 'Morocco-Earthquake-Sept-2023' in x]\n",
        "    shuffle(geojsons)\n",
        "\n",
        "    for geojson in geojsons:\n",
        "        print(geojson)\n",
        "        recs = json.loads(open(geojson, 'r').read())\n",
        "\n",
        "        urls = [x['properties']['visual']\n",
        "                for x in recs['features']]\n",
        "        shuffle(urls)\n",
        "\n",
        "        folder = 'maxar-open-data/downloads/' + geojson.split('/')[-1].split('.')[0]\n",
        "\n",
        "        try:\n",
        "            makedirs(folder)\n",
        "        except FileExistsError:\n",
        "            pass\n",
        "\n",
        "        for url in track(urls, description='Downloading..'):\n",
        "            date = url.split('/')[-2]\n",
        "            assert len(date) == len('YYYY-MM-DD')\n",
        "            out_filename = 'ard' + url.split('/ard')[-1].replace('/', '_')\n",
        "            output_path = '%s/%s/%s' % (folder, date, out_filename)\n",
        "\n",
        "            try:\n",
        "                makedirs(folder + '/' + date)\n",
        "            except FileExistsError:\n",
        "                pass\n",
        "\n",
        "            if path.isfile(output_path):\n",
        "                continue\n",
        "\n",
        "            print(out_filename)\n",
        "\n",
        "            try:\n",
        "                r = requests.get(url, timeout=timeout)\n",
        "            except Exception as exc:\n",
        "                print(exc)\n",
        "                continue\n",
        "\n",
        "            with open(output_path, 'wb') as f:\n",
        "                f.write(r.content)\n",
        "\n",
        "\n",
        "if __name__ == \"__main__\":\n",
        "    app()\n"
      ],
      "metadata": {
        "cellView": "form",
        "id": "DCNv9kg3cgCc"
      },
      "execution_count": null,
      "outputs": []
    },
    {
      "cell_type": "code",
      "source": [
        "# @title Step 3: Run the Download Script\n",
        "\n",
        "!python download.py"
      ],
      "metadata": {
        "cellView": "form",
        "id": "n5YSOUSWcn4k"
      },
      "execution_count": null,
      "outputs": []
    }
  ]
}